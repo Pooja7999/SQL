{
 "cells": [
  {
   "cell_type": "code",
   "execution_count": 1,
   "id": "ff0875ab",
   "metadata": {},
   "outputs": [],
   "source": [
    "## normalization"
   ]
  },
  {
   "cell_type": "code",
   "execution_count": 2,
   "id": "febb62b0",
   "metadata": {},
   "outputs": [],
   "source": [
    "# First Normal Form (1NF)\n",
    "# Data is stored in tables with rows that can be uniquely identified by a Primary Key.\n",
    "# Data within each table is stored in individual columns in its most reduced form.\n",
    "# There are no repeating groups.\n"
   ]
  },
  {
   "cell_type": "code",
   "execution_count": 3,
   "id": "cd46e6ac",
   "metadata": {},
   "outputs": [],
   "source": [
    "import mysql.connector\n",
    "from mysql.connector import Error\n",
    "import pandas as pd"
   ]
  },
  {
   "cell_type": "code",
   "execution_count": 4,
   "id": "ef8a5d0c",
   "metadata": {},
   "outputs": [],
   "source": [
    "def create_server_connection(host_name, user_name, user_password):\n",
    "    connection = None\n",
    "    try:\n",
    "        connection = mysql.connector.connect(\n",
    "            host=host_name,\n",
    "            user=user_name,\n",
    "            passwd=user_password\n",
    "        )\n",
    "        print(\"MySQL Database connection successful\")\n",
    "    except Error as err:\n",
    "        print(f\"Error: '{err}'\")\n",
    "\n",
    "    return connection"
   ]
  },
  {
   "cell_type": "code",
   "execution_count": 5,
   "id": "9b5491ed",
   "metadata": {},
   "outputs": [
    {
     "name": "stdout",
     "output_type": "stream",
     "text": [
      "MySQL Database connection successful\n"
     ]
    }
   ],
   "source": [
    "connection = create_server_connection(\"localhost\", \"root\", \"root\")"
   ]
  },
  {
   "cell_type": "code",
   "execution_count": 6,
   "id": "3dbe0289",
   "metadata": {},
   "outputs": [],
   "source": [
    "def create_database(connection, query):\n",
    "    cursor = connection.cursor()\n",
    "    try:\n",
    "        cursor.execute(query)\n",
    "        print(\"Database created successfully\")\n",
    "        \n",
    "    except Error as err:\n",
    "        print(f\" Error:'{err}'\")"
   ]
  },
  {
   "cell_type": "code",
   "execution_count": 7,
   "id": "b93be081",
   "metadata": {},
   "outputs": [
    {
     "name": "stdout",
     "output_type": "stream",
     "text": [
      " Error:'1007 (HY000): Can't create database 'normalization'; database exists'\n"
     ]
    }
   ],
   "source": [
    "create_database_query=\"CREATE DATABASE  normalization\"\n",
    "create_database(connection,create_database_query)"
   ]
  },
  {
   "cell_type": "code",
   "execution_count": 8,
   "id": "0858c14e",
   "metadata": {},
   "outputs": [],
   "source": [
    "def create_db_connection(host_name,user_name,user_password,db_name):\n",
    "    connection = None\n",
    "    try:\n",
    "        connection=mysql.connector.connect(\n",
    "        host=host_name,\n",
    "        user=user_name,\n",
    "        passwd=user_password,\n",
    "        database=db_name\n",
    "        )\n",
    "        print(\"MySQL Database connection successful\")\n",
    "    except Error as err:\n",
    "        print(f\"Error:'{err}'\")\n",
    "    return connection "
   ]
  },
  {
   "cell_type": "code",
   "execution_count": 9,
   "id": "1c3f40d0",
   "metadata": {},
   "outputs": [],
   "source": [
    "def execute_query(connection,query):\n",
    "    cursor = connection.cursor()\n",
    "    try:\n",
    "        cursor.execute(query)\n",
    "        connection.commit()\n",
    "        print(\"Query successful\")\n",
    "    except Error as err:\n",
    "        print(f\"Error:'{err}'\")"
   ]
  },
  {
   "cell_type": "code",
   "execution_count": 10,
   "id": "9e071693",
   "metadata": {},
   "outputs": [
    {
     "name": "stdout",
     "output_type": "stream",
     "text": [
      "MySQL Database connection successful\n",
      "Error:'1050 (42S01): Table 'employees' already exists'\n"
     ]
    }
   ],
   "source": [
    "create_employees_table = \"\"\"\n",
    "CREATE TABLE Employees(\n",
    "EMP_ID INT PRIMARY KEY,\n",
    "EMP_NAME VARCHAR(50),\n",
    "EMP_PHONE INT (50),\n",
    "EMP_STATE VARCHAR(30)\n",
    ")\n",
    "\"\"\"\n",
    "connection=create_db_connection(\"localhost\",\"root\",\"root\",\"normalization\")\n",
    "execute_query(connection,create_employees_table)\n"
   ]
  },
  {
   "cell_type": "code",
   "execution_count": 11,
   "id": "3029efc6",
   "metadata": {},
   "outputs": [
    {
     "name": "stdout",
     "output_type": "stream",
     "text": [
      "MySQL Database connection successful\n",
      "Query successful\n"
     ]
    }
   ],
   "source": [
    "pop_employees = \"\"\"\n",
    "INSERT INTO Employees VALUES\n",
    "(1,  'James','491776849','M.P'),\n",
    "(2, 'Stefanie','491937878', 'U.P'); \n",
    "\n",
    "\"\"\"\n",
    "\n",
    "connection = create_db_connection(\"localhost\", \"root\", \"root\", \"normalization\")\n",
    "execute_query(connection,pop_employees)"
   ]
  },
  {
   "cell_type": "code",
   "execution_count": 14,
   "id": "a4fddd20",
   "metadata": {},
   "outputs": [],
   "source": [
    "#First Normal Form (1NF)\n",
    "# Data is stored in tables with rows that can be uniquely identified by a Primary Key.\n",
    "# Data within each table is stored in individual columns in its most reduced form.\n",
    "# There are no repeating groups."
   ]
  },
  {
   "cell_type": "code",
   "execution_count": 16,
   "id": "728cd65d",
   "metadata": {},
   "outputs": [],
   "source": [
    "from IPython.display import Image\n",
    "\n",
    "# normalizationinsql_2_img"
   ]
  },
  {
   "cell_type": "code",
   "execution_count": 20,
   "id": "d7891f25",
   "metadata": {},
   "outputs": [
    {
     "data": {
      "text/html": [
       "<img src=\"https://www.simplilearn.com/ice9/free_resources_article_thumb/normalizationinsql_2.png\"/>"
      ],
      "text/plain": [
       "<IPython.core.display.Image object>"
      ]
     },
     "execution_count": 20,
     "metadata": {},
     "output_type": "execute_result"
    }
   ],
   "source": [
    "Image(url='https://www.simplilearn.com/ice9/free_resources_article_thumb/normalizationinsql_2.png')"
   ]
  },
  {
   "cell_type": "code",
   "execution_count": 21,
   "id": "862d38bb",
   "metadata": {},
   "outputs": [],
   "source": [
    "# In the studentsrecord table, you can see that the course column has two values. \n",
    "# Thus it does not follow the First Normal Form. Now,\n",
    "# if you use the First Normal Form to the above table, you get the below table as a result."
   ]
  },
  {
   "cell_type": "code",
   "execution_count": 23,
   "id": "83a6ed90",
   "metadata": {},
   "outputs": [
    {
     "data": {
      "text/html": [
       "<img src=\"https://www.simplilearn.com/ice9/free_resources_article_thumb/normalizationinsql_3.png\"/>"
      ],
      "text/plain": [
       "<IPython.core.display.Image object>"
      ]
     },
     "execution_count": 23,
     "metadata": {},
     "output_type": "execute_result"
    }
   ],
   "source": [
    "Image(url='https://www.simplilearn.com/ice9/free_resources_article_thumb/normalizationinsql_3.png')"
   ]
  },
  {
   "cell_type": "code",
   "execution_count": 24,
   "id": "58dcd028",
   "metadata": {},
   "outputs": [],
   "source": [
    "# Second Normal Form (2NF)\n",
    "# All the rules from 1NF must be satisfied.\n",
    "# Only those data that relates to a table’s primary key is stored in each table."
   ]
  },
  {
   "cell_type": "code",
   "execution_count": 25,
   "id": "a19f885b",
   "metadata": {},
   "outputs": [],
   "source": [
    "# Candidate Key\n",
    "# A candidate key is a set of one or more columns that can identify a record\n",
    "# # uniquely in a table, and YOU can use each candidate key as a Primary Key."
   ]
  },
  {
   "cell_type": "code",
   "execution_count": 26,
   "id": "5c7c09f7",
   "metadata": {},
   "outputs": [
    {
     "data": {
      "text/html": [
       "<img src=\"https://www.simplilearn.com/ice9/free_resources_article_thumb/normalizationinsql_13.png\"/>"
      ],
      "text/plain": [
       "<IPython.core.display.Image object>"
      ]
     },
     "execution_count": 26,
     "metadata": {},
     "output_type": "execute_result"
    }
   ],
   "source": [
    "Image(url='https://www.simplilearn.com/ice9/free_resources_article_thumb/normalizationinsql_13.png')"
   ]
  },
  {
   "cell_type": "code",
   "execution_count": 27,
   "id": "b29abd15",
   "metadata": {},
   "outputs": [],
   "source": [
    "# The first condition for the table to be in Second Normal Form is that\n",
    "# the table has to be in First Normal Form. The table should not possess\n",
    "# partial dependency. The partial dependency here means\n",
    "# the proper subset of the candidate key should give a non-prime attribute."
   ]
  },
  {
   "cell_type": "code",
   "execution_count": 29,
   "id": "7b03c5a0",
   "metadata": {},
   "outputs": [
    {
     "data": {
      "text/html": [
       "<img src=\"https://www.simplilearn.com/ice9/free_resources_article_thumb/normalizationinsql_4.png\"/>"
      ],
      "text/plain": [
       "<IPython.core.display.Image object>"
      ]
     },
     "execution_count": 29,
     "metadata": {},
     "output_type": "execute_result"
    }
   ],
   "source": [
    "Image(url='https://www.simplilearn.com/ice9/free_resources_article_thumb/normalizationinsql_4.png')"
   ]
  },
  {
   "cell_type": "code",
   "execution_count": 30,
   "id": "6d49dd62",
   "metadata": {},
   "outputs": [],
   "source": [
    "# he Location table possesses a composite primary key cust_id, storeid. \n",
    "# The non-key attribute is store_location. In this case, store_location\n",
    "# only depends on storeid, which is a part of the primary key.\n",
    "# Hence, this table does not fulfill the second normal form."
   ]
  },
  {
   "cell_type": "code",
   "execution_count": 36,
   "id": "6df06d91",
   "metadata": {},
   "outputs": [
    {
     "data": {
      "text/html": [
       "<img src=\"https://www.simplilearn.com/ice9/free_resources_article_thumb/normalizationinsql_5.png\"/>"
      ],
      "text/plain": [
       "<IPython.core.display.Image object>"
      ]
     },
     "execution_count": 36,
     "metadata": {},
     "output_type": "execute_result"
    }
   ],
   "source": [
    "Image(url='https://www.simplilearn.com/ice9/free_resources_article_thumb/normalizationinsql_5.png')\n"
   ]
  },
  {
   "cell_type": "code",
   "execution_count": 37,
   "id": "6df7e59c",
   "metadata": {},
   "outputs": [
    {
     "data": {
      "text/html": [
       "<img src=\"https://www.simplilearn.com/ice9/free_resources_article_thumb/normalizationinsql_6.png\"/>"
      ],
      "text/plain": [
       "<IPython.core.display.Image object>"
      ]
     },
     "execution_count": 37,
     "metadata": {},
     "output_type": "execute_result"
    }
   ],
   "source": [
    "Image(url='https://www.simplilearn.com/ice9/free_resources_article_thumb/normalizationinsql_6.png')"
   ]
  },
  {
   "cell_type": "code",
   "execution_count": 38,
   "id": "10d770b3",
   "metadata": {},
   "outputs": [],
   "source": [
    "# Third Normal Form (3NF)\n",
    "# All the rules from 2NF must be satisfied.\n",
    "# There should be no intra-table dependencies between the columns in each table."
   ]
  },
  {
   "cell_type": "code",
   "execution_count": 39,
   "id": "72be8f06",
   "metadata": {},
   "outputs": [],
   "source": [
    "# Third Normal Form (3NF)\n",
    "# The first condition for the table to be in Third Normal Form is that the table should be in the Second Normal Form.\n",
    "# The second condition is that there should be no transitive dependency \n",
    "# for non-prime attributes, which indicates that non-prime attributes (which are not a part of the candidate key) should not depend on other non-prime attributes in a table. Therefore, a transitive dependency is a functional dependency in which A → C (A determines C) indirectly, \n",
    "# because of A → B and B → C (where it is not the case that B → A)."
   ]
  },
  {
   "cell_type": "code",
   "execution_count": 40,
   "id": "503d9e51",
   "metadata": {},
   "outputs": [
    {
     "data": {
      "text/html": [
       "<img src=\"https://www.simplilearn.com/ice9/free_resources_article_thumb/normalizationinsql_7.png\"/>"
      ],
      "text/plain": [
       "<IPython.core.display.Image object>"
      ]
     },
     "execution_count": 40,
     "metadata": {},
     "output_type": "execute_result"
    }
   ],
   "source": [
    "Image(url='https://www.simplilearn.com/ice9/free_resources_article_thumb/normalizationinsql_7.png')"
   ]
  },
  {
   "cell_type": "code",
   "execution_count": 42,
   "id": "02e990e3",
   "metadata": {},
   "outputs": [
    {
     "data": {
      "text/html": [
       "<img src=\"https://www.simplilearn.com/ice9/free_resources_article_thumb/normalizationinsql_8.png\"/>"
      ],
      "text/plain": [
       "<IPython.core.display.Image object>"
      ]
     },
     "execution_count": 42,
     "metadata": {},
     "output_type": "execute_result"
    }
   ],
   "source": [
    "Image(url='https://www.simplilearn.com/ice9/free_resources_article_thumb/normalizationinsql_8.png')"
   ]
  },
  {
   "cell_type": "code",
   "execution_count": 43,
   "id": "b52a3f3d",
   "metadata": {},
   "outputs": [
    {
     "data": {
      "text/html": [
       "<img src=\"https://www.simplilearn.com/ice9/free_resources_article_thumb/normalizationinsql_9.png\"/>"
      ],
      "text/plain": [
       "<IPython.core.display.Image object>"
      ]
     },
     "execution_count": 43,
     "metadata": {},
     "output_type": "execute_result"
    }
   ],
   "source": [
    "Image(url='https://www.simplilearn.com/ice9/free_resources_article_thumb/normalizationinsql_9.png')"
   ]
  },
  {
   "cell_type": "markdown",
   "id": "88efb408",
   "metadata": {},
   "source": [
    "# Boyce CoddNormal Form (BCNF)"
   ]
  },
  {
   "cell_type": "code",
   "execution_count": 44,
   "id": "dfcd85a5",
   "metadata": {},
   "outputs": [],
   "source": [
    "# The subject table follows these conditions:\n",
    "\n",
    "# Each student can enroll in multiple subjects.\n",
    "# Multiple professors can teach a particular subject.\n",
    "# For each subject, it assigns a professor to the student.\n",
    "# In the above table, student_id and subject together form the primary key because using student_id and subject; you can determine all the table columns."
   ]
  },
  {
   "cell_type": "code",
   "execution_count": 46,
   "id": "0cd7150d",
   "metadata": {},
   "outputs": [
    {
     "data": {
      "text/html": [
       "<img src=\"https://www.simplilearn.com/ice9/free_resources_article_thumb/normalizationinsql_11.png\"/>"
      ],
      "text/plain": [
       "<IPython.core.display.Image object>"
      ]
     },
     "execution_count": 46,
     "metadata": {},
     "output_type": "execute_result"
    }
   ],
   "source": [
    "Image(url='https://www.simplilearn.com/ice9/free_resources_article_thumb/normalizationinsql_11.png')"
   ]
  },
  {
   "cell_type": "code",
   "execution_count": 47,
   "id": "49a45272",
   "metadata": {},
   "outputs": [
    {
     "data": {
      "text/html": [
       "<img src=\"https://www.simplilearn.com/ice9/free_resources_article_thumb/normalizationinsql_12.png\"/>"
      ],
      "text/plain": [
       "<IPython.core.display.Image object>"
      ]
     },
     "execution_count": 47,
     "metadata": {},
     "output_type": "execute_result"
    }
   ],
   "source": [
    "Image(url='https://www.simplilearn.com/ice9/free_resources_article_thumb/normalizationinsql_12.png')"
   ]
  },
  {
   "cell_type": "code",
   "execution_count": null,
   "id": "2403e15a",
   "metadata": {},
   "outputs": [],
   "source": []
  }
 ],
 "metadata": {
  "kernelspec": {
   "display_name": "Python 3 (ipykernel)",
   "language": "python",
   "name": "python3"
  },
  "language_info": {
   "codemirror_mode": {
    "name": "ipython",
    "version": 3
   },
   "file_extension": ".py",
   "mimetype": "text/x-python",
   "name": "python",
   "nbconvert_exporter": "python",
   "pygments_lexer": "ipython3",
   "version": "3.10.9"
  }
 },
 "nbformat": 4,
 "nbformat_minor": 5
}
