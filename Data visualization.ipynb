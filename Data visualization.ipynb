{
 "cells": [
  {
   "cell_type": "code",
   "execution_count": null,
   "id": "ca4e9d9f",
   "metadata": {},
   "outputs": [],
   "source": [
    "import  pandas as pd \n",
    "import matplotlib.pyplot as plt"
   ]
  },
  {
   "cell_type": "code",
   "execution_count": null,
   "id": "ac9c5f00",
   "metadata": {},
   "outputs": [],
   "source": [
    "data = pd.read_csv(\"tips.csv\") "
   ]
  },
  {
   "cell_type": "code",
   "execution_count": null,
   "id": "814dbe04",
   "metadata": {},
   "outputs": [],
   "source": [
    "display(data.head(5))"
   ]
  },
  {
   "cell_type": "code",
   "execution_count": null,
   "id": "42840fc4",
   "metadata": {},
   "outputs": [],
   "source": [
    "# scatter plot : displaying  relationships between variables\n",
    "# x and y  the values for the two variables"
   ]
  },
  {
   "cell_type": "code",
   "execution_count": null,
   "id": "7b5f6de7",
   "metadata": {},
   "outputs": [],
   "source": [
    "import numpy as np\n",
    "\n",
    "x=range(20)\n",
    "y = np.arange(50, 70) + (np.random.random(20) * 10)\n",
    "\n",
    "\n",
    "plt.figure()\n",
    "plt.scatter(x,y)\n",
    "plt.show"
   ]
  },
  {
   "cell_type": "code",
   "execution_count": null,
   "id": "e7b0474a",
   "metadata": {},
   "outputs": [],
   "source": [
    "# #Commonly used parameters\n",
    "\n",
    "# c: Set the color of the markers\n",
    "# s: Set the size of market\n",
    "# marker: Set the marker style, e.g , circles, triangles , or squares.\n",
    "# edgecolor: Set the color of the lines on the edges of the markers \n"
   ]
  },
  {
   "cell_type": "code",
   "execution_count": null,
   "id": "0e136c92",
   "metadata": {},
   "outputs": [],
   "source": [
    "\n",
    "plt.figure()\n",
    "plt.scatter(x,\n",
    "            y,\n",
    "           c='green',\n",
    "           s=100,\n",
    "           marker='s',\n",
    "           edgecolor ='none')\n",
    "plt.show"
   ]
  },
  {
   "cell_type": "code",
   "execution_count": null,
   "id": "301bde03",
   "metadata": {},
   "outputs": [],
   "source": [
    "import matplotlib.pyplot as plt\n",
    "\n",
    "plt.figure()\n",
    "\n",
    "plt.scatter(data['total_bill'],data['tip'])\n",
    "\n",
    "plt.title(\"Scatter Plot\")\n",
    "\n",
    "plt.xlabel(\"Total_bill\")\n",
    "plt.ylabel('Tip')\n",
    "\n",
    "plt.show()"
   ]
  },
  {
   "cell_type": "code",
   "execution_count": null,
   "id": "0e273f60",
   "metadata": {},
   "outputs": [],
   "source": [
    "import matplotlib.pyplot as plt\n",
    "\n",
    "plt.figure()\n",
    "\n",
    "plt.scatter(data['day'] , data['tip'] , s=data['size']*10,c=data['total_bill'])\n",
    "\n",
    "plt.title(\"Scatter Plot\")\n",
    "\n",
    "plt.xlabel('day')\n",
    "plt.ylabel('tip')\n",
    "\n",
    "\n",
    "\n",
    "plt.colorbar()\n",
    "\n",
    "plt.show()"
   ]
  },
  {
   "cell_type": "code",
   "execution_count": null,
   "id": "f4876dca",
   "metadata": {},
   "outputs": [],
   "source": [
    "## Line Chart"
   ]
  },
  {
   "cell_type": "code",
   "execution_count": null,
   "id": "d524a573",
   "metadata": {},
   "outputs": [],
   "source": [
    "# Purpose:showing trends in data - usually time series data many time points\n",
    "#     matplotlib function: plot(x, y) \n",
    "# • x: The x-coordinates of the lines or markers. \n",
    "# • y: The y-coordinates of the lines or markers. \n"
   ]
  },
  {
   "cell_type": "code",
   "execution_count": null,
   "id": "2265120f",
   "metadata": {},
   "outputs": [],
   "source": [
    "import numpy as np\n",
    "\n",
    "x=np.linspace(0,20)\n",
    "\n",
    "y1=np.sin(x)\n",
    "y2=np.cos(x)\n",
    "\n",
    "plt.figure()\n",
    "\n",
    "plt.plot(x,y1)\n",
    "plt.plot(x,y2)\n",
    "\n",
    "\n",
    "plt.show()"
   ]
  },
  {
   "cell_type": "code",
   "execution_count": null,
   "id": "6ee2f27f",
   "metadata": {},
   "outputs": [],
   "source": [
    "# Commonly used parameters: \n",
    "# • color: Set the color of the line. \n",
    "# • linestyle: Set the line style, e.g., solid, dashed, or none. \n",
    "# • linewidth: Set the line thickness. \n",
    "# • marker: Set the marker style, e.g., circles, triangles, or none. \n",
    "# • markersize: Set the marker size. \n",
    "# • label: Set the label for the line that will show up in the legend. \n"
   ]
  },
  {
   "cell_type": "code",
   "execution_count": null,
   "id": "bb4ed80c",
   "metadata": {},
   "outputs": [],
   "source": [
    "x=np.linspace(0,20)\n",
    "y1=np.sin(x)\n",
    "y2=np.cos(x)\n",
    "\n",
    "plt.figure()\n",
    "\n",
    "plt.plot(x,y1,\n",
    "        color='black',\n",
    "        linestyle='-',\n",
    "        marker='s',\n",
    "        markersize=6,\n",
    "        label='sin values')\n",
    "\n",
    "plt.plot(x,y2,c='gray',\n",
    "        linestyle='--',\n",
    "        linewidth=2,\n",
    "        marker='^',\n",
    "        markersize=6,\n",
    "        label='cos values')\n",
    "\n",
    "plt.legend()\n",
    "plt.show()"
   ]
  },
  {
   "cell_type": "code",
   "execution_count": null,
   "id": "1b26ea79",
   "metadata": {},
   "outputs": [],
   "source": [
    "plt.figure()\n",
    "\n",
    "plt.plot(data['tip'],color='gray')\n",
    "\n",
    "plt.title(\"Line chart\")\n",
    "plt.xlabel('index')\n",
    "plt.ylabel('Tip')\n",
    "plt.show()"
   ]
  },
  {
   "cell_type": "code",
   "execution_count": null,
   "id": "a33e7d81",
   "metadata": {},
   "outputs": [],
   "source": [
    "# # Barchart : Comparing categories OR showing temporal trends in data with few (<4) time points\n",
    "# # Purpose: Comparing categories OR showing temporal trends in data with few (< 4) time points. matplotlib function: bar(left, height) \n",
    "# # • left: The x coordinate(s) of the left sides of the bars. \n",
    "# # • height: The height(s) of the bars. \n",
    "\n",
    "# Commonly used parameters: \n",
    "# • color: Set the color of the bars. \n",
    "# • edgecolor: Set the color of the lines on the edges of the bars. \n",
    "# • width: Set the width of the bars. \n",
    "# • align: Set the alignment of the bars, e.g., center them on the x coordinate(s). • label: Set the label for the bar that will show up in the legend. \n",
    "\n"
   ]
  },
  {
   "cell_type": "code",
   "execution_count": null,
   "id": "70dc8dfe",
   "metadata": {},
   "outputs": [],
   "source": [
    "years= np.arange(2012,2015)\n",
    "values=(2,5,9)\n",
    "\n",
    "plt.figure()\n",
    "\n",
    "plt.bar(years,values)\n",
    "\n",
    "plt.show()"
   ]
  },
  {
   "cell_type": "code",
   "execution_count": null,
   "id": "0827b254",
   "metadata": {},
   "outputs": [],
   "source": [
    "years=np.arange(2012,2015)\n",
    "category1_values=[2,5,9]\n",
    "category2_values=[7,6,3]\n",
    "\n",
    "plt.figure()\n",
    "\n",
    "plt.bar(years - 0.2,\n",
    "       category1_values,\n",
    "       color='blue',\n",
    "       edgecolor='none',\n",
    "       width=0.4,\n",
    "       align='center',\n",
    "       label='y1')\n",
    "plt.bar(years + 0.2,\n",
    "       category2_values,\n",
    "       color='orange',\n",
    "       edgecolor='none',\n",
    "        width=0.4,\n",
    "       align='center',\n",
    "       label='y2')\n",
    "plt.xticks(years,[str(year) for year in years])\n",
    "\n",
    "plt.legend()\n",
    "plt.show()\n",
    "\n"
   ]
  },
  {
   "cell_type": "code",
   "execution_count": null,
   "id": "b1ca5b49",
   "metadata": {},
   "outputs": [],
   "source": [
    "# Purpose: Comparing categories. \n",
    "# matplotlib function: barh(bottom, width) \n",
    "# • bottom: The y coordinate(s) of the bars. \n",
    "# • width: The width(s) of the bars.\n"
   ]
  },
  {
   "cell_type": "code",
   "execution_count": null,
   "id": "95f82fd8",
   "metadata": {},
   "outputs": [],
   "source": [
    "categories= ['A','B','C','D','E']\n",
    "values=[7,12,4,2,9]\n",
    "\n",
    "# print(np.arange(len(categories)))\n",
    "plt.figure()\n",
    "\n",
    "plt.barh(categories,values)\n",
    "\n",
    "plt.yticks(categories,[f'Category {x}' for x in categories])\n",
    "                      \n",
    "plt.show()\n"
   ]
  },
  {
   "cell_type": "code",
   "execution_count": null,
   "id": "e7bb436b",
   "metadata": {},
   "outputs": [],
   "source": [
    "# Commonly used parameters: \n",
    "# • color: Set the color of the bars. \n",
    "# • edgecolor: Set the color of the lines on the edges of the bars. \n",
    "# • height: Set the height of the bars. \n",
    "# • align: Set the alignment of the bars, e.g., center them on the y coordinate(s). \n",
    "\n"
   ]
  },
  {
   "cell_type": "code",
   "execution_count": null,
   "id": "812b728e",
   "metadata": {},
   "outputs": [],
   "source": [
    "plt.barh(categories,\n",
    "         values,\n",
    "        color='green',\n",
    "        height=0.6,\n",
    "        align='center')\n",
    "\n",
    "plt.yticks(categories,['Category{}'.format(x) for x in categories])\n",
    "                      \n",
    "plt.show()\n"
   ]
  },
  {
   "cell_type": "code",
   "execution_count": null,
   "id": "68f9edcd",
   "metadata": {},
   "outputs": [],
   "source": [
    "import pandas as pd\n",
    "\n",
    "categories = ['A','B','C','D','E']\n",
    "values = [7,12,4,2,9]\n",
    "\n",
    "category_values = pd.DataFrame({'categories':categories,\n",
    "                                 'values':values})"
   ]
  },
  {
   "cell_type": "code",
   "execution_count": null,
   "id": "178908cc",
   "metadata": {},
   "outputs": [],
   "source": [
    "category_values"
   ]
  },
  {
   "cell_type": "code",
   "execution_count": null,
   "id": "65ac0145",
   "metadata": {},
   "outputs": [],
   "source": [
    "category_values.sort_values(by='values',ascending=True,inplace=True)\n",
    "categories = category_values['categories'].values\n",
    "\n",
    "plt.figure()\n",
    "\n",
    "plt.barh(categories,\n",
    "        values,\n",
    "        color='pink',\n",
    "        edgecolor='none',\n",
    "        height=0.6,\n",
    "        align='center')\n",
    "plt.yticks(np.arange(len(categories)),\n",
    "          ['Category{}'.format(x) for x in categories])\n",
    "\n",
    "plt.title(\"categories_values\")\n",
    "plt.xlabel(\"values\")\n",
    "plt.ylabel(\"category\")\n",
    "\n",
    "# plt.colorbar()\n",
    "# plt.legend()\n",
    "plt.show()\n"
   ]
  },
  {
   "cell_type": "code",
   "execution_count": null,
   "id": "ac9d7bd5",
   "metadata": {},
   "outputs": [],
   "source": [
    "plt.bar(data['day'], data['tip'],color='green')\n",
    "\n",
    "plt.title('Bar Chart')\n",
    "\n",
    "plt.xlabel('Day')\n",
    "plt.ylabel('Tips')\n",
    "plt.show()"
   ]
  },
  {
   "cell_type": "code",
   "execution_count": null,
   "id": "8a14acc2",
   "metadata": {},
   "outputs": [],
   "source": [
    "# Pie charts"
   ]
  },
  {
   "cell_type": "code",
   "execution_count": null,
   "id": "9b5e7d6c",
   "metadata": {},
   "outputs": [],
   "source": [
    "# Purpose: Displaying a simple proportion.\n",
    "# matplotlib function: pie(sizes)\n",
    "# • sizes: The size of the wedges as either a fraction or number."
   ]
  },
  {
   "cell_type": "code",
   "execution_count": null,
   "id": "ad4b214b",
   "metadata": {},
   "outputs": [],
   "source": [
    "counts = [17,14]\n",
    "\n",
    "plt.figure(figsize=(4,4))\n",
    "\n",
    "plt.pie(counts)\n",
    "\n",
    "plt.show()"
   ]
  },
  {
   "cell_type": "code",
   "execution_count": null,
   "id": "d254440f",
   "metadata": {},
   "outputs": [],
   "source": [
    "# Commonly used parameters:\n",
    "# • colors: Set the colors of the wedges.\n",
    "# • labels: Set the labels of the wedges.\n",
    "# • startangle: Set the angle that the wedges start at.\n",
    "# • autopct: Set the percentage display format of the wedges."
   ]
  },
  {
   "cell_type": "code",
   "execution_count": null,
   "id": "8973d2e7",
   "metadata": {},
   "outputs": [],
   "source": [
    "counts = [17,14]\n",
    "\n",
    "plt.figure(figsize=(4, 4))\n",
    "\n",
    "plt.pie(counts,\n",
    "       colors=['blue', 'red'],\n",
    "       labels=['Categories A', 'Other categories'],\n",
    "       startangle=60,\n",
    "       autopct='%1.2f%%')\n",
    "plt.show()\n"
   ]
  },
  {
   "cell_type": "code",
   "execution_count": null,
   "id": "3518f8a0",
   "metadata": {},
   "outputs": [],
   "source": [
    "grp_data = data.groupby('sex').tip.mean().reset_index()"
   ]
  },
  {
   "cell_type": "code",
   "execution_count": null,
   "id": "663f6e0d",
   "metadata": {},
   "outputs": [],
   "source": [
    "grp_data\n"
   ]
  },
  {
   "cell_type": "code",
   "execution_count": null,
   "id": "cb796382",
   "metadata": {},
   "outputs": [],
   "source": [
    "plt.figure(figsize=(4,4))\n",
    "\n",
    "plt.pie(grp_data.tip,labels=grp_data.sex, autopct=\"%1.2f%%\")\n",
    "\n",
    "plt.show()"
   ]
  },
  {
   "cell_type": "code",
   "execution_count": null,
   "id": "59a91c5c",
   "metadata": {},
   "outputs": [],
   "source": [
    "# Histogram\n",
    "# Purpose: Showing the spread of a data column.\n",
    "# matplotlib function: hist(x)\n",
    "# • x: List of values to display the distribution of."
   ]
  },
  {
   "cell_type": "code",
   "execution_count": null,
   "id": "62768b1a",
   "metadata": {},
   "outputs": [],
   "source": [
    "column_data = np.random.normal(42, 3, 1000)\n",
    "\n",
    "plt.figure()\n",
    "\n",
    "plt.hist(column_data)\n",
    "\n",
    "plt.show()"
   ]
  },
  {
   "cell_type": "code",
   "execution_count": null,
   "id": "60583a5a",
   "metadata": {},
   "outputs": [],
   "source": [
    "column_data = np.random.normal(42 , 3, 1000)\n",
    "\n",
    "plt.figure()\n",
    "\n",
    "plt.hist(column_data,\n",
    "        color='red',\n",
    "        bins=20)\n",
    "\n",
    "plt.show()"
   ]
  },
  {
   "cell_type": "code",
   "execution_count": null,
   "id": "7ac3c98a",
   "metadata": {},
   "outputs": [],
   "source": [
    "plt.hist(data['total_bill'],bins=30,color='pink')\n",
    "\n",
    "plt.title(\"Histogram\")\n",
    "\n",
    "plt.show()\n"
   ]
  },
  {
   "cell_type": "code",
   "execution_count": null,
   "id": "1acc927b",
   "metadata": {},
   "outputs": [],
   "source": [
    "# Subplots\n",
    "# Purpose: Allows you to place multiple charts in a figure.\n",
    "# matplotlib function: subplot(nrows, ncols, plot_number)\n",
    "# • nrows: The number of rows in the figure.\n",
    "# • ncols: The number of columns in the figure.\n",
    "# • plot_number: The placement of the chart (starts at 1)."
   ]
  },
  {
   "cell_type": "code",
   "execution_count": null,
   "id": "598d7720",
   "metadata": {},
   "outputs": [],
   "source": [
    "plt.figure()\n",
    "\n",
    "\n",
    "for i in range(1, 7):\n",
    "    plt.subplot(3, 2, i)\n",
    "    plt.title(i)\n",
    "    plt.xticks([])\n",
    "    plt.yticks([])\n",
    "    \n",
    "plt.tight_layout()"
   ]
  },
  {
   "cell_type": "code",
   "execution_count": null,
   "id": "fb67e20f",
   "metadata": {},
   "outputs": [],
   "source": [
    "dist1 = np.random.normal(42,  7, 1000)\n",
    "dist2 = np.random.normal(59, 3, 1000)\n",
    "\n",
    "plt.figure(figsize=(10,4))\n",
    "\n",
    "plt.subplot(1,2,1)\n",
    "plt.hist(dist1)\n",
    "plt.title('dist1')\n",
    "\n",
    "plt.subplot(1,2,2)\n",
    "plt.scatter(dist2 , dist1)\n",
    "\n",
    "plt.xlabel('dist2')\n",
    "\n",
    "plt.ylabel('dist1')\n",
    "\n",
    "plt.tight_layout()"
   ]
  },
  {
   "cell_type": "code",
   "execution_count": null,
   "id": "b7733e35",
   "metadata": {},
   "outputs": [],
   "source": [
    "years = np.arange(2010, 2016)\n",
    "plt.figure(figsize=(10,10))\n",
    "\n",
    "for category_num in range(1,17):\n",
    "    plt.subplot(4,4, category_num)\n",
    "    y_vals = np.arange(10, 16) + (np.random.random(6) * category_num / 4.)\n",
    "    \n",
    "    plt.plot(years, y_vals)\n",
    "    plt.ylim(10, 18)\n",
    "    plt.xticks(years, [str(year) for year in years])\n",
    "    plt.title('Category {}'.format(category_num))\n",
    "plt.tight_layout()"
   ]
  },
  {
   "cell_type": "code",
   "execution_count": null,
   "id": "bdeaed5f",
   "metadata": {},
   "outputs": [],
   "source": [
    "# Styles"
   ]
  },
  {
   "cell_type": "code",
   "execution_count": null,
   "id": "fe497689",
   "metadata": {},
   "outputs": [],
   "source": [
    "import matplotlib.pyplot as plt\n",
    "\n",
    "x1_values = [2012, 2013, 2014, 2015]\n",
    "y1_values = [4.3, 2.5, 3.5, 4.5]\n",
    "\n",
    "x2_values = [2012,2013,2014,2015]\n",
    "y2_values = [2.4,4.4,1.8,2.8]\n",
    "\n",
    "x3_values = [2012, 2013, 2014, 2015]\n",
    "y3_values = [2,2,3,5]\n",
    "\n",
    "plt.figure()\n",
    "plt.plot(x1_values, y1_values, label='Python')\n",
    "plt.plot(x2_values, y2_values, label='javaScript')\n",
    "plt.plot(x3_values, y3_values, label='R')\n",
    "\n",
    "plt.xlim(2012, 2015)\n",
    "plt.ylim(0,6)\n",
    "plt.xticks([2012, 2013, 2014, 2015], ['2012', '2013', '2014', '2015' ])\n",
    "plt.yticks([1,2,3,4,5])\n",
    "plt.xlabel('year')\n",
    "plt.ylabel('Web Searches')\n",
    "\n",
    "plt.legend(loc='upper center' , ncol=3)\n",
    "plt.grid(True)\n",
    "plt.savefig('web-searches.png' , dpi=150)"
   ]
  },
  {
   "cell_type": "code",
   "execution_count": null,
   "id": "a3ad81fd",
   "metadata": {},
   "outputs": [],
   "source": [
    "plt.figure()\n",
    "\n",
    "plt.plot(x1_values, y1_values, label='Python', lw=3, color='#1f77b4')\n",
    "plt.plot(x2_values, y2_values, label= 'JavaScript', lw=3, color='#ff7f0e' )\n",
    "plt.plot(x3_values, y3_values, label='R', lw=3, color='#2ca02c')\n",
    "\n",
    "plt.xlim(2012, 2015)\n",
    "plt.ylim(0, 6)\n",
    "plt.xticks([2012, 2013, 2014, 2015], ['2012', '2013', '2014', '2015'])\n",
    "plt.yticks([1,2,3,4,5])\n",
    "\n",
    "plt.xlabel('')\n",
    "plt.ylabel('Web Searches')\n",
    "\n",
    "plt.legend(loc='upper center', ncol=3)\n",
    "\n",
    "plt.grid(True)\n",
    "plt.savefig('websearches.png', dpi=150)\n"
   ]
  },
  {
   "cell_type": "code",
   "execution_count": null,
   "id": "82e45ae2",
   "metadata": {},
   "outputs": [],
   "source": [
    "# Advanced Visualization"
   ]
  },
  {
   "cell_type": "code",
   "execution_count": null,
   "id": "187c7f25",
   "metadata": {},
   "outputs": [],
   "source": [
    "import pandas as pd\n",
    "from matplotlib import pyplot as plt\n",
    "import seaborn as sns"
   ]
  },
  {
   "cell_type": "code",
   "execution_count": null,
   "id": "725173b2",
   "metadata": {},
   "outputs": [],
   "source": [
    "df=pd.read_csv('tips.csv')\n",
    "df"
   ]
  },
  {
   "cell_type": "code",
   "execution_count": null,
   "id": "881ef8c4",
   "metadata": {},
   "outputs": [],
   "source": [
    "import numpy as np\n",
    "sns.set(rc = {'figure.figsize':(14, 6)})\n",
    "ax = sns.histplot(x = data['total_bill'], kde=True)\n",
    "quant_5 = data['total_bill'].quantile(0.05)\n",
    "quant_25 = data['total_bill'].quantile(0.25)\n",
    "quant_50 = data['total_bill'].quantile(0.5)\n",
    "quant_75 = data['total_bill'].quantile(0.75)\n",
    "quant_95 = data['total_bill'].quantile(0.95)\n",
    "quant_dict = {'5%': quant_5, '25%': quant_25, '50%': quant_50, '75%': quant_75, '95%': quant_95}\n",
    "kdeline = ax.lines[0]\n",
    "xs = kdeline.get_xdata()\n",
    "ys = kdeline.get_ydata()\n",
    "for key, value in quant_dict.items():\n",
    "    height = np.interp(value, xs, ys)\n",
    "    ax.vlines(value, 0, height, ls=':')\n",
    "    ax.text(value , height * 0.5, key, rotation=0)\n",
    "plt.show()"
   ]
  },
  {
   "cell_type": "code",
   "execution_count": null,
   "id": "68417288",
   "metadata": {},
   "outputs": [],
   "source": [
    "# Pairplot"
   ]
  },
  {
   "cell_type": "code",
   "execution_count": null,
   "id": "31dadba3",
   "metadata": {},
   "outputs": [],
   "source": [
    "# sns.pairplot(df)\n",
    "# # plt.show()\n",
    "# plt.tight_layout()\n",
    "sns.pairplot(df)\n",
    "plt.show()"
   ]
  },
  {
   "cell_type": "code",
   "execution_count": null,
   "id": "dd5b8a65",
   "metadata": {},
   "outputs": [],
   "source": [
    "df.value_counts('smoker')"
   ]
  },
  {
   "cell_type": "code",
   "execution_count": null,
   "id": "e00b4915",
   "metadata": {},
   "outputs": [],
   "source": [
    "sns.pairplot(df, hue='smoker')\n",
    "plt.show()"
   ]
  },
  {
   "cell_type": "code",
   "execution_count": null,
   "id": "30b4e734",
   "metadata": {},
   "outputs": [],
   "source": [
    "# Linear regression with distributions"
   ]
  },
  {
   "cell_type": "code",
   "execution_count": null,
   "id": "7bb490a9",
   "metadata": {},
   "outputs": [],
   "source": [
    "sns.jointplot(x=\"total_bill\", y=\"tip\", data=df, kind=\"reg\")\n",
    "plt.show()"
   ]
  },
  {
   "cell_type": "code",
   "execution_count": null,
   "id": "865cdd99",
   "metadata": {},
   "outputs": [],
   "source": [
    "#Box Plot"
   ]
  },
  {
   "cell_type": "code",
   "execution_count": null,
   "id": "2778e094",
   "metadata": {},
   "outputs": [],
   "source": [
    "sns.boxplot(x=df[\"total_bill\"])\n",
    "plt.show()"
   ]
  },
  {
   "cell_type": "code",
   "execution_count": null,
   "id": "39b316ed",
   "metadata": {},
   "outputs": [],
   "source": [
    "sns.boxplot(x=\"day\", y=\"total_bill\", data=df)\n",
    "plt.show()"
   ]
  },
  {
   "cell_type": "code",
   "execution_count": null,
   "id": "693c3f10",
   "metadata": {},
   "outputs": [],
   "source": [
    "#heatmap"
   ]
  },
  {
   "cell_type": "code",
   "execution_count": null,
   "id": "3d8997d7",
   "metadata": {},
   "outputs": [],
   "source": [
    "# flights_long= sns.load_dataset(\"flights\")\n",
    "\n",
    "# flights_long\n",
    "flights_long = sns.load_dataset(\"flights\")\n",
    "flights_long"
   ]
  },
  {
   "cell_type": "code",
   "execution_count": null,
   "id": "d1c5cd99",
   "metadata": {},
   "outputs": [],
   "source": [
    "# flights = flights_long.pivot(\"month\", \"year\", \"passengers\")\n",
    "# flights\n",
    "\n",
    "flights = flights_long.pivot(\"month\", \"year\", \"passengers\")\n",
    "flights\n",
    "\n",
    "\n",
    "f, ax = plt.subplots(figsize=(16, 8))\n",
    "sns.heatmap(flights, annot=True, fmt=\".0f\")\n",
    "plt.show()"
   ]
  }
 ],
 "metadata": {
  "kernelspec": {
   "display_name": "Python 3 (ipykernel)",
   "language": "python",
   "name": "python3"
  },
  "language_info": {
   "codemirror_mode": {
    "name": "ipython",
    "version": 3
   },
   "file_extension": ".py",
   "mimetype": "text/x-python",
   "name": "python",
   "nbconvert_exporter": "python",
   "pygments_lexer": "ipython3",
   "version": "3.10.9"
  }
 },
 "nbformat": 4,
 "nbformat_minor": 5
}
