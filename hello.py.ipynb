{
 "cells": [
  {
   "cell_type": "code",
   "execution_count": 19,
   "id": "322d01d4",
   "metadata": {
    "scrolled": true
   },
   "outputs": [
    {
     "name": "stderr",
     "output_type": "stream",
     "text": [
      "Cloning into 'SQL'...\n"
     ]
    }
   ],
   "source": [
    " !git clone https://github.com/Pooja7999/SQL.git"
   ]
  },
  {
   "cell_type": "code",
   "execution_count": 22,
   "id": "c164d21c",
   "metadata": {},
   "outputs": [
    {
     "name": "stdout",
     "output_type": "stream",
     "text": [
      "Reinitialized existing Git repository in C:/Users/Lenovo/.git/\n"
     ]
    }
   ],
   "source": [
    "!git init"
   ]
  },
  {
   "cell_type": "code",
   "execution_count": 28,
   "id": "07607c93",
   "metadata": {},
   "outputs": [
    {
     "name": "stderr",
     "output_type": "stream",
     "text": [
      "Switched to a new branch 'sql_main'\n"
     ]
    }
   ],
   "source": [
    "!git checkout -b sql_main\n",
    "\n"
   ]
  },
  {
   "cell_type": "code",
   "execution_count": 29,
   "id": "70152b35",
   "metadata": {},
   "outputs": [
    {
     "name": "stdout",
     "output_type": "stream",
     "text": [
      "On branch sql_main"
     ]
    },
    {
     "name": "stderr",
     "output_type": "stream",
     "text": [
      "warning: could not open directory 'Application Data/': Permission denied\n",
      "warning: could not open directory 'Cookies/': Permission denied\n",
      "warning: could not open directory 'Local Settings/': Permission denied\n",
      "warning: could not open directory 'My Documents/': Permission denied\n",
      "warning: could not open directory 'NetHood/': Permission denied\n",
      "warning: could not open directory 'PrintHood/': Permission denied\n",
      "warning: could not open directory 'Recent/': Permission denied\n",
      "warning: could not open directory 'SendTo/': Permission denied\n",
      "warning: could not open directory 'Start Menu/': Permission denied\n",
      "warning: could not open directory 'Templates/': Permission denied\n"
     ]
    },
    {
     "name": "stdout",
     "output_type": "stream",
     "text": [
      "\n",
      "\n",
      "No commits yet\n",
      "\n",
      "Untracked files:\n",
      "  (use \"git add <file>...\" to include in what will be committed)\n",
      "\t.dotnet/\n",
      "\t.ipynb_checkpoints/\n",
      "\t.ipython/\n",
      "\t.jupyter/\n",
      "\t.matplotlib/\n",
      "\t.vscode/\n",
      "\tAI & ML.ipynb\n",
      "\tAppData/\n",
      "\tContacts/\n",
      "\tDesktop/\n",
      "\tDocuments/\n",
      "\tDownloads/\n",
      "\tFavorites/\n",
      "\tIntelGraphicsProfiles/\n",
      "\tLinks/\n",
      "\tMusic/\n",
      "\tNLP_2_PROJECT.ipynb\n",
      "\tNLP_PROJECT/\n",
      "\tNLP_project.py.ipynb\n",
      "\tNTUSER.DAT\n",
      "\tNTUSER.DAT{1daaacc5-f591-11ed-b164-df9f05a1ca54}.TxR.0.regtrans-ms\n",
      "\tNTUSER.DAT{1daaacc5-f591-11ed-b164-df9f05a1ca54}.TxR.1.regtrans-ms\n",
      "\tNTUSER.DAT{1daaacc5-f591-11ed-b164-df9f05a1ca54}.TxR.2.regtrans-ms\n",
      "\tNTUSER.DAT{1daaacc5-f591-11ed-b164-df9f05a1ca54}.TxR.blf\n",
      "\tNTUSER.DAT{1daaacc6-f591-11ed-b164-df9f05a1ca54}.TM.blf\n",
      "\tNTUSER.DAT{1daaacc6-f591-11ed-b164-df9f05a1ca54}.TMContainer00000000000000000001.regtrans-ms\n",
      "\tNTUSER.DAT{1daaacc6-f591-11ed-b164-df9f05a1ca54}.TMContainer00000000000000000002.regtrans-ms\n",
      "\tOneDrive/\n",
      "\tPictures/\n",
      "\tSQL/\n",
      "\tSQL_DBMS.ipynb\n",
      "\tSaved Games/\n",
      "\tSearches/\n",
      "\tVideos/\n",
      "\tget-pip.py\n",
      "\tgit/\n",
      "\tipv4_agents.csv\n",
      "\tnetwork_packet_flow.csv\n",
      "\tnewp/\n",
      "\tntuser.dat.LOG1\n",
      "\tntuser.dat.LOG2\n",
      "\tntuser.ini\n",
      "\tp1/\n",
      "\tpraveen/\n",
      "\tpraveen2/\n",
      "\tpythogpt/\n",
      "\ttest_label\n",
      "\ttest_sent\n",
      "\ttrain_label\n",
      "\ttrain_sent\n",
      "\n",
      "nothing added to commit but untracked files present (use \"git add\" to track)\n"
     ]
    }
   ],
   "source": [
    "!git status"
   ]
  },
  {
   "cell_type": "code",
   "execution_count": 30,
   "id": "245ee137",
   "metadata": {},
   "outputs": [
    {
     "name": "stdout",
     "output_type": "stream",
     "text": [
      "Defaulting to user installation because normal site-packages is not writeable\n",
      "Collecting mysql-connector-python\n",
      "  Obtaining dependency information for mysql-connector-python from https://files.pythonhosted.org/packages/9d/1b/a7b17532d6c7972e9173d9cc6fad5f94b949bcaaafa744f4e68a255ebd37/mysql_connector_python-8.1.0-cp310-cp310-win_amd64.whl.metadata\n",
      "  Downloading mysql_connector_python-8.1.0-cp310-cp310-win_amd64.whl.metadata (2.1 kB)\n",
      "Collecting protobuf<=4.21.12,>=4.21.1 (from mysql-connector-python)\n",
      "  Downloading protobuf-4.21.12-cp310-abi3-win_amd64.whl (527 kB)\n",
      "     ---------------------------------------- 0.0/527.0 kB ? eta -:--:--\n",
      "     -------------- ----------------------- 204.8/527.0 kB 6.1 MB/s eta 0:00:01\n",
      "     ------------------------ ------------- 337.9/527.0 kB 5.2 MB/s eta 0:00:01\n",
      "     -------------------------------------  522.2/527.0 kB 4.1 MB/s eta 0:00:01\n",
      "     -------------------------------------- 527.0/527.0 kB 3.3 MB/s eta 0:00:00\n",
      "Downloading mysql_connector_python-8.1.0-cp310-cp310-win_amd64.whl (10.9 MB)\n",
      "   ---------------------------------------- 0.0/10.9 MB ? eta -:--:--\n",
      "    --------------------------------------- 0.2/10.9 MB 10.9 MB/s eta 0:00:01\n",
      "   - -------------------------------------- 0.3/10.9 MB 4.2 MB/s eta 0:00:03\n",
      "   - -------------------------------------- 0.5/10.9 MB 3.8 MB/s eta 0:00:03\n",
      "   -- ------------------------------------- 0.8/10.9 MB 4.2 MB/s eta 0:00:03\n",
      "   --- ------------------------------------ 1.0/10.9 MB 4.4 MB/s eta 0:00:03\n",
      "   ---- ----------------------------------- 1.1/10.9 MB 4.3 MB/s eta 0:00:03\n",
      "   ---- ----------------------------------- 1.3/10.9 MB 4.2 MB/s eta 0:00:03\n",
      "   ----- ---------------------------------- 1.5/10.9 MB 4.2 MB/s eta 0:00:03\n",
      "   ------ --------------------------------- 1.7/10.9 MB 4.1 MB/s eta 0:00:03\n",
      "   ------ --------------------------------- 1.8/10.9 MB 3.9 MB/s eta 0:00:03\n",
      "   ------- -------------------------------- 2.0/10.9 MB 3.9 MB/s eta 0:00:03\n",
      "   -------- ------------------------------- 2.2/10.9 MB 4.1 MB/s eta 0:00:03\n",
      "   -------- ------------------------------- 2.4/10.9 MB 4.0 MB/s eta 0:00:03\n",
      "   --------- ------------------------------ 2.6/10.9 MB 4.0 MB/s eta 0:00:03\n",
      "   ---------- ----------------------------- 2.8/10.9 MB 3.9 MB/s eta 0:00:03\n",
      "   ---------- ----------------------------- 2.9/10.9 MB 3.8 MB/s eta 0:00:03\n",
      "   ----------- ---------------------------- 3.1/10.9 MB 3.9 MB/s eta 0:00:02\n",
      "   ------------ --------------------------- 3.3/10.9 MB 3.8 MB/s eta 0:00:02\n",
      "   ------------ --------------------------- 3.5/10.9 MB 3.9 MB/s eta 0:00:02\n",
      "   ------------- -------------------------- 3.6/10.9 MB 3.9 MB/s eta 0:00:02\n",
      "   -------------- ------------------------- 3.8/10.9 MB 3.8 MB/s eta 0:00:02\n",
      "   -------------- ------------------------- 4.0/10.9 MB 3.9 MB/s eta 0:00:02\n",
      "   --------------- ------------------------ 4.2/10.9 MB 3.9 MB/s eta 0:00:02\n",
      "   ---------------- ----------------------- 4.4/10.9 MB 3.9 MB/s eta 0:00:02\n",
      "   ---------------- ----------------------- 4.6/10.9 MB 3.9 MB/s eta 0:00:02\n",
      "   ----------------- ---------------------- 4.7/10.9 MB 3.9 MB/s eta 0:00:02\n",
      "   ------------------ --------------------- 4.9/10.9 MB 3.9 MB/s eta 0:00:02\n",
      "   ------------------ --------------------- 5.1/10.9 MB 3.9 MB/s eta 0:00:02\n",
      "   ------------------- -------------------- 5.3/10.9 MB 3.9 MB/s eta 0:00:02\n",
      "   -------------------- ------------------- 5.4/10.9 MB 3.9 MB/s eta 0:00:02\n",
      "   -------------------- ------------------- 5.6/10.9 MB 3.9 MB/s eta 0:00:02\n",
      "   --------------------- ------------------ 5.8/10.9 MB 3.8 MB/s eta 0:00:02\n",
      "   --------------------- ------------------ 6.0/10.9 MB 3.8 MB/s eta 0:00:02\n",
      "   ---------------------- ----------------- 6.0/10.9 MB 3.8 MB/s eta 0:00:02\n",
      "   ---------------------- ----------------- 6.0/10.9 MB 3.8 MB/s eta 0:00:02\n",
      "   ---------------------- ----------------- 6.0/10.9 MB 3.8 MB/s eta 0:00:02\n",
      "   ------------------------ --------------- 6.7/10.9 MB 3.8 MB/s eta 0:00:02\n",
      "   ------------------------- -------------- 6.9/10.9 MB 3.9 MB/s eta 0:00:02\n",
      "   -------------------------- ------------- 7.1/10.9 MB 3.9 MB/s eta 0:00:01\n",
      "   -------------------------- ------------- 7.3/10.9 MB 3.9 MB/s eta 0:00:01\n",
      "   --------------------------- ------------ 7.4/10.9 MB 3.9 MB/s eta 0:00:01\n",
      "   ---------------------------- ----------- 7.6/10.9 MB 3.9 MB/s eta 0:00:01\n",
      "   ---------------------------- ----------- 7.8/10.9 MB 3.9 MB/s eta 0:00:01\n",
      "   ----------------------------- ---------- 8.0/10.9 MB 3.8 MB/s eta 0:00:01\n",
      "   ------------------------------ --------- 8.2/10.9 MB 3.9 MB/s eta 0:00:01\n",
      "   ------------------------------ --------- 8.3/10.9 MB 3.9 MB/s eta 0:00:01\n",
      "   ------------------------------- -------- 8.5/10.9 MB 3.9 MB/s eta 0:00:01\n",
      "   ------------------------------- -------- 8.7/10.9 MB 3.9 MB/s eta 0:00:01\n",
      "   -------------------------------- ------- 8.9/10.9 MB 3.9 MB/s eta 0:00:01\n",
      "   --------------------------------- ------ 9.1/10.9 MB 3.9 MB/s eta 0:00:01\n",
      "   --------------------------------- ------ 9.2/10.9 MB 3.9 MB/s eta 0:00:01\n",
      "   ---------------------------------- ----- 9.4/10.9 MB 3.9 MB/s eta 0:00:01\n",
      "   ----------------------------------- ---- 9.6/10.9 MB 3.9 MB/s eta 0:00:01\n",
      "   ----------------------------------- ---- 9.8/10.9 MB 3.9 MB/s eta 0:00:01\n",
      "   ------------------------------------ --- 10.0/10.9 MB 3.8 MB/s eta 0:00:01\n",
      "   ------------------------------------- -- 10.1/10.9 MB 3.9 MB/s eta 0:00:01\n",
      "   -------------------------------------- - 10.3/10.9 MB 3.8 MB/s eta 0:00:01\n",
      "   -------------------------------------- - 10.5/10.9 MB 3.9 MB/s eta 0:00:01\n",
      "   ---------------------------------------  10.7/10.9 MB 3.8 MB/s eta 0:00:01\n",
      "   ---------------------------------------  10.9/10.9 MB 3.9 MB/s eta 0:00:01\n",
      "   ---------------------------------------  10.9/10.9 MB 3.9 MB/s eta 0:00:01\n",
      "   ---------------------------------------  10.9/10.9 MB 3.9 MB/s eta 0:00:01\n",
      "   ---------------------------------------  10.9/10.9 MB 3.9 MB/s eta 0:00:01\n",
      "   ---------------------------------------  10.9/10.9 MB 3.9 MB/s eta 0:00:01\n",
      "   ---------------------------------------  10.9/10.9 MB 3.9 MB/s eta 0:00:01\n",
      "   ---------------------------------------  10.9/10.9 MB 3.9 MB/s eta 0:00:01\n",
      "   ---------------------------------------  10.9/10.9 MB 3.9 MB/s eta 0:00:01\n",
      "   ---------------------------------------  10.9/10.9 MB 3.9 MB/s eta 0:00:01\n",
      "   ---------------------------------------  10.9/10.9 MB 3.9 MB/s eta 0:00:01\n",
      "   ---------------------------------------  10.9/10.9 MB 3.9 MB/s eta 0:00:01\n",
      "   ---------------------------------------  10.9/10.9 MB 3.9 MB/s eta 0:00:01\n",
      "   ---------------------------------------  10.9/10.9 MB 3.9 MB/s eta 0:00:01\n",
      "   ---------------------------------------  10.9/10.9 MB 3.9 MB/s eta 0:00:01\n",
      "   ---------------------------------------  10.9/10.9 MB 3.9 MB/s eta 0:00:01\n",
      "   ---------------------------------------  10.9/10.9 MB 3.9 MB/s eta 0:00:01\n",
      "   ---------------------------------------  10.9/10.9 MB 3.9 MB/s eta 0:00:01\n",
      "   ---------------------------------------  10.9/10.9 MB 3.9 MB/s eta 0:00:01\n",
      "   ---------------------------------------  10.9/10.9 MB 3.9 MB/s eta 0:00:01\n",
      "   ---------------------------------------  10.9/10.9 MB 3.9 MB/s eta 0:00:01\n",
      "   ---------------------------------------- 10.9/10.9 MB 2.8 MB/s eta 0:00:00\n",
      "Installing collected packages: protobuf, mysql-connector-python\n",
      "Successfully installed mysql-connector-python-8.1.0 protobuf-4.21.12\n"
     ]
    }
   ],
   "source": [
    "!pip install mysql-connector-python"
   ]
  },
  {
   "cell_type": "code",
   "execution_count": null,
   "id": "aa13684f",
   "metadata": {},
   "outputs": [],
   "source": [
    "\n",
    "hello pooja!"
   ]
  },
  {
   "cell_type": "code",
   "execution_count": 32,
   "id": "0c95f777",
   "metadata": {},
   "outputs": [
    {
     "name": "stderr",
     "output_type": "stream",
     "text": [
      "fatal: pathspec 'hello.py' did not match any files\n"
     ]
    }
   ],
   "source": [
    "! git add hello.py"
   ]
  },
  {
   "cell_type": "code",
   "execution_count": null,
   "id": "71a1c073",
   "metadata": {},
   "outputs": [],
   "source": []
  }
 ],
 "metadata": {
  "kernelspec": {
   "display_name": "Python 3 (ipykernel)",
   "language": "python",
   "name": "python3"
  },
  "language_info": {
   "codemirror_mode": {
    "name": "ipython",
    "version": 3
   },
   "file_extension": ".py",
   "mimetype": "text/x-python",
   "name": "python",
   "nbconvert_exporter": "python",
   "pygments_lexer": "ipython3",
   "version": "3.10.9"
  }
 },
 "nbformat": 4,
 "nbformat_minor": 5
}
