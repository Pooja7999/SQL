{
 "cells": [
  {
   "cell_type": "code",
   "execution_count": 1,
   "id": "1c4d248e",
   "metadata": {},
   "outputs": [
    {
     "name": "stdout",
     "output_type": "stream",
     "text": [
      "Defaulting to user installation because normal site-packages is not writeable\n",
      "Collecting pymongo\n",
      "  Downloading pymongo-4.5.0-cp310-cp310-win_amd64.whl.metadata (22 kB)\n",
      "Collecting dnspython<3.0.0,>=1.16.0 (from pymongo)\n",
      "  Downloading dnspython-2.4.2-py3-none-any.whl.metadata (4.9 kB)\n",
      "Downloading pymongo-4.5.0-cp310-cp310-win_amd64.whl (468 kB)\n",
      "   ---------------------------------------- 0.0/468.2 kB ? eta -:--:--\n",
      "   ------------ --------------------------- 143.4/468.2 kB 4.3 MB/s eta 0:00:01\n",
      "   ----------------------- ---------------- 276.5/468.2 kB 4.2 MB/s eta 0:00:01\n",
      "   ---------------------------------------  460.8/468.2 kB 3.6 MB/s eta 0:00:01\n",
      "   ---------------------------------------  460.8/468.2 kB 3.6 MB/s eta 0:00:01\n",
      "   ---------------------------------------  460.8/468.2 kB 3.6 MB/s eta 0:00:01\n",
      "   ---------------------------------------- 468.2/468.2 kB 1.7 MB/s eta 0:00:00\n",
      "Downloading dnspython-2.4.2-py3-none-any.whl (300 kB)\n",
      "   ---------------------------------------- 0.0/300.4 kB ? eta -:--:--\n",
      "   ------------------------------ --------- 225.3/300.4 kB 6.9 MB/s eta 0:00:01\n",
      "   ---------------------------------------  297.0/300.4 kB 6.1 MB/s eta 0:00:01\n",
      "   ---------------------------------------  297.0/300.4 kB 6.1 MB/s eta 0:00:01\n",
      "   ---------------------------------------- 300.4/300.4 kB 1.9 MB/s eta 0:00:00\n",
      "Installing collected packages: dnspython, pymongo\n",
      "Successfully installed dnspython-2.4.2 pymongo-4.5.0\n"
     ]
    },
    {
     "name": "stderr",
     "output_type": "stream",
     "text": [
      "WARNING: Retrying (Retry(total=4, connect=None, read=None, redirect=None, status=None)) after connection broken by 'ReadTimeoutError(\"HTTPSConnectionPool(host='pypi.org', port=443): Read timed out. (read timeout=15)\")': /simple/pymongo/\n"
     ]
    }
   ],
   "source": [
    "!pip install pymongo"
   ]
  },
  {
   "cell_type": "code",
   "execution_count": 1,
   "id": "0b5a0c77",
   "metadata": {},
   "outputs": [
    {
     "name": "stdout",
     "output_type": "stream",
     "text": [
      "client: MongoClient(host=['localhost:27017'], document_class=dict, tz_aware=False, connect=True)\n"
     ]
    }
   ],
   "source": [
    "import pymongo\n",
    "\n",
    "connection_url =\"mongodb://localhost:27017\"\n",
    "\n",
    "client = pymongo.MongoClient(connection_url)\n",
    "\n",
    "print(\"client:\", client)\n"
   ]
  },
  {
   "cell_type": "code",
   "execution_count": 2,
   "id": "44d268a1",
   "metadata": {},
   "outputs": [],
   "source": [
    "database_name = \"employee_db\"\n",
    "employee_db= client[database_name]"
   ]
  },
  {
   "cell_type": "code",
   "execution_count": 3,
   "id": "21e09a45",
   "metadata": {},
   "outputs": [],
   "source": [
    "collection_name = \"employee_details\"\n",
    "collection = employee_db[collection_name]"
   ]
  },
  {
   "cell_type": "code",
   "execution_count": 8,
   "id": "64f7fa13",
   "metadata": {},
   "outputs": [
    {
     "name": "stdout",
     "output_type": "stream",
     "text": [
      "collection:  ['employee_details']\n"
     ]
    },
    {
     "data": {
      "text/plain": [
       "<pymongo.results.InsertManyResult at 0x2e3b41fe110>"
      ]
     },
     "execution_count": 8,
     "metadata": {},
     "output_type": "execute_result"
    }
   ],
   "source": [
    "print(\"collection: \", employee_db.list_collection_names())\n",
    "\n",
    "# insert data\n",
    "document = {\"Name\":\"Arvind\", \"Emp_ID\":\" PY2022101\", \"Branch\" : \"Python Developer\"}\n",
    "collection.insert_one(document)\n",
    "            \n",
    "documents = [\n",
    "    {\"Name\": \"Roshan\", \"Emp_ID\": \"PY2022102\", \"Branch\": \"Python Developer\"},\n",
    "    {\"Name\": \"Pritam\", \"Emp_ID\": \"JA2022103\", \"Branch\": \"JavaScript Developer\"},\n",
    "    {\"Name\": \"Ronak\", \"Emp_ID\": \"JS2022104\", \"Branch\": \"JavaScript Developer\"},\n",
    "    \n",
    "]\n",
    "\n",
    "collection.insert_many(documents)\n"
   ]
  },
  {
   "cell_type": "code",
   "execution_count": 9,
   "id": "1d11f990",
   "metadata": {},
   "outputs": [
    {
     "name": "stdout",
     "output_type": "stream",
     "text": [
      "{'_id': ObjectId('653b748070d330d57fd26a89'), 'Name': 'Arvind', 'Emp_ID': ' PY2022101', 'Branch': 'Python Developer'}\n"
     ]
    }
   ],
   "source": [
    "# Retrieving the data  from the collection \n",
    "query = {\"Name\": \"Arvind\"}\n",
    "print(collection.find_one(query))"
   ]
  },
  {
   "cell_type": "code",
   "execution_count": 12,
   "id": "8a827c7f",
   "metadata": {},
   "outputs": [
    {
     "name": "stdout",
     "output_type": "stream",
     "text": [
      "result: <pymongo.cursor.Cursor object at 0x000002E3B41FF6D0>\n",
      "{'_id': ObjectId('653b748070d330d57fd26a89'), 'Name': 'Arvind', 'Emp_ID': ' PY2022101', 'Branch': 'Python Developer'}\n",
      "{'_id': ObjectId('653b748370d330d57fd26a8a'), 'Name': 'Roshan', 'Emp_ID': 'PY2022102', 'Branch': 'Python Developer'}\n",
      "{'_id': ObjectId('653b74bc70d330d57fd26a8d'), 'Name': 'Arvind', 'Emp_ID': ' PY2022101', 'Branch': 'Python Developer'}\n",
      "{'_id': ObjectId('653b74bc70d330d57fd26a8e'), 'Name': 'Roshan', 'Emp_ID': 'PY2022102', 'Branch': 'Python Developer'}\n"
     ]
    }
   ],
   "source": [
    "query = {\"Branch\": \"Python Developer\"}\n",
    "result = collection.find(query)\n",
    "print(\"result:\", result)\n",
    "for i in result:\n",
    "    print(i)"
   ]
  },
  {
   "cell_type": "code",
   "execution_count": 17,
   "id": "e0c4c929",
   "metadata": {},
   "outputs": [
    {
     "name": "stdout",
     "output_type": "stream",
     "text": [
      "<pymongo.results.UpdateResult object at 0x000002E3B41FDF60>\n"
     ]
    }
   ],
   "source": [
    "# updating the documnets in the collection\n",
    "query = {\"Emp_ID\": {\"$eq\":\"PY2022102\"}}\n",
    "present_data = collection.find_one(query)\n",
    "\n",
    "new_data = {\"$set\":{\"Name\": \"Sharma\"}}\n",
    "collection.update_one(present_data, new_data)\n",
    "\n",
    "present_data = {\"Branch\": \"Python Developer\"}\n",
    "new_data = {\"$set\": {\"Branch\": \"Sr.Python Developer\"}}\n",
    "\n",
    "result=collection.update_many(present_data, new_data)\n",
    "print(result)\n"
   ]
  },
  {
   "cell_type": "code",
   "execution_count": 18,
   "id": "11db9a45",
   "metadata": {},
   "outputs": [
    {
     "name": "stdout",
     "output_type": "stream",
     "text": [
      "{'_id': ObjectId('653b748370d330d57fd26a8a'), 'Name': 'Sharma', 'Emp_ID': 'PY2022102', 'Branch': 'Sr. Python Developer'}\n"
     ]
    }
   ],
   "source": [
    "# Retrieving the data  from the collection \n",
    "query = {\"Name\": \"Sharma\"}\n",
    "print(collection.find_one(query))"
   ]
  },
  {
   "cell_type": "code",
   "execution_count": 21,
   "id": "d8c0f4ec",
   "metadata": {},
   "outputs": [
    {
     "data": {
      "text/plain": [
       "<pymongo.results.DeleteResult at 0x2e3b41fe5f0>"
      ]
     },
     "execution_count": 21,
     "metadata": {},
     "output_type": "execute_result"
    }
   ],
   "source": [
    "# delect documnets from the collection \n",
    "\n",
    "# query = {\"Emp_ID\": \"JA2022103\"}\n",
    "# collection.delete_one(query)\n",
    "\n",
    "query = {\"Branch\" :'Sr. Python Developer'}\n",
    "collection.delete_many(query)"
   ]
  },
  {
   "cell_type": "code",
   "execution_count": null,
   "id": "292d54bb",
   "metadata": {},
   "outputs": [],
   "source": []
  }
 ],
 "metadata": {
  "kernelspec": {
   "display_name": "Python 3 (ipykernel)",
   "language": "python",
   "name": "python3"
  },
  "language_info": {
   "codemirror_mode": {
    "name": "ipython",
    "version": 3
   },
   "file_extension": ".py",
   "mimetype": "text/x-python",
   "name": "python",
   "nbconvert_exporter": "python",
   "pygments_lexer": "ipython3",
   "version": "3.10.9"
  }
 },
 "nbformat": 4,
 "nbformat_minor": 5
}
